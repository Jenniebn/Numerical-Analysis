{
 "cells": [
  {
   "cell_type": "markdown",
   "id": "26b2fc4f",
   "metadata": {},
   "source": [
    "$1$ REVIEW"
   ]
  },
  {
   "attachments": {},
   "cell_type": "markdown",
   "id": "82fbec48-4412-4131-bd9d-18fc81d57ecc",
   "metadata": {},
   "source": [
    "__1. The Intermediate Value Theorem__\n",
    "If a function is continuous on $[a, b]$ then it passes through every value between $f(a)$ and $f(b)$\n",
    "\n",
    "__2. The Mean Value Theorem__\n",
    "If $f$ is continuous on $[a, b]$ and differentiable, then at some point between a and b, $\\frac{f(b)- f(a)}{b - a} = f'(c)$. In other words, the instant. rate of change will equal equal the avg. rate of change at some point.\n",
    "\n",
    "__3. Rolle’s Theorem__\n",
    "If $f$ is continuous on $[a, b]$ and differentiable, such that $f(a) = f(b)$, then there exists at least one point such that $f'(c) = 0$. In other words, if $f(a) = f(b)$, then there must be a max or min in between a and b.\n",
    "\n",
    "__4. The Mean Value Theorem for Integrals__\n",
    "If $f$ is continuous on $[a, b]$, $f$ has at least one point, c, inside the interval where $f(c)$ is equal to its average value over the interval. In other words, the area under $f$ on $[a, b]$ is equal to the area of a rectangle whose base is the length of $b - a$ and height is $f(c)$.\n",
    "$$\n",
    "\\int_{a}^b f(x)dx = f(c)(b - a)\n",
    "$$\n",
    "\n",
    "__5. The Weighted Mean Value Theorem for Integrals__\n",
    "If $f$ is continuous on $[a, b]$, and $g$ is a function that is integrable on $[a, b]$ and does not change sign on $[a, b]$, then\n",
    "$$\n",
    "\\int_{a}^b f(x)g(x)dx = f(c)\\int_{a}^b g(x)dx\n",
    "$$\n",
    "for some c in $[a, b]$. \n",
    "In the case where $g(x)$ is a function that is easy to anti-differentiate and $f(x)$ is not, this theorem\n",
    "can be used to obtain an estimate of the integral of $f(x)g(x)$ over an interval."
   ]
  },
  {
   "cell_type": "markdown",
   "id": "0254dd70",
   "metadata": {},
   "source": [
    "$2$ "
   ]
  },
  {
   "cell_type": "code",
   "execution_count": 29,
   "id": "9e44d304",
   "metadata": {},
   "outputs": [
    {
     "name": "stdout",
     "output_type": "stream",
     "text": [
      "Integral 1 = 0.6682683087950135\n",
      "Integral 2 = 0.6670676941291324 Decrease Factor = 0.2503851861586843\n",
      "Integral 3 = 0.6667669623471976 Decrease Factor = 0.25009678866944945\n"
     ]
    }
   ],
   "source": [
    "# This is an implementation of the CTR written by Jennie Wu for problem 2 part a\n",
    "# Last Modified: 09/30/2021\n",
    "# INPUT: integral limits a and b, number of nodes N and the integrand fa\n",
    "# OUTPUT: CTR approximation to the integral of fa from 0 to 2\n",
    "\n",
    "def fa(x):\n",
    "    return 1 / ((1 + x) ** 2)\n",
    "\n",
    "def trapezoidal(N, a, b, f):\n",
    "    h = (b - a) / float(N)\n",
    "    s =(f(a) + f(b))/ 2.0\n",
    "    for i in range(1, N):\n",
    "        xith = a + i * h\n",
    "        s += f(xith)\n",
    "    return s*h\n",
    "\n",
    "approx1 = trapezoidal(20, 0, 2, fa)\n",
    "approx2 = trapezoidal(40, 0, 2, fa)\n",
    "approx3 = trapezoidal(80, 0, 2, fa)\n",
    "error1 = 2/3 - approx1\n",
    "error2 = 2/3 - approx2\n",
    "error3 = 2/3 - approx3\n",
    "rate1 = error2 / error1\n",
    "rate2 = error3/ error2\n",
    "print(\"Integral 1 =\", approx1)\n",
    "print(\"Integral 2 =\", approx2, \"Decrease Factor =\", rate1)\n",
    "print(\"Integral 3 =\", approx3, \"Decrease Factor =\", rate2)"
   ]
  },
  {
   "cell_type": "code",
   "execution_count": 31,
   "id": "1cc3535c",
   "metadata": {},
   "outputs": [
    {
     "name": "stdout",
     "output_type": "stream",
     "text": [
      "Integral A = 0.6635811968772283 Error = 0.0030854697894383554\n",
      "Integral B = 0.6655589362789418 Error = 0.0011077303877248257 Decrease Factor = 0.3590151462563711\n",
      "Integral C = 0.6662708113785066 Error = 0.0003958552881599964 Decrease Factor = 0.35735707221415675\n",
      "Integral D = 0.6665256572968263 Error = 0.00014100936984029477 Decrease Factor = 0.3562144401195968\n"
     ]
    }
   ],
   "source": [
    "# Problem 2 part b\n",
    "# Last Modified: 09/30/2021\n",
    "# INPUT: integral limits a and b, number of nodes N and the integrand fb\n",
    "# OUTPUT: CTR approximation to the integral of fb from 0 to 1\n",
    "\n",
    "import math\n",
    "def fb(x):\n",
    "    return math.sqrt(x)\n",
    "\n",
    "approxa = trapezoidal(16, 0, 1, fb)\n",
    "approxb = trapezoidal(32, 0, 1, fb)\n",
    "approxc = trapezoidal(64, 0, 1, fb)\n",
    "approxd = trapezoidal(128, 0, 1, fb)\n",
    "errora = 2/3.0 - approxa\n",
    "errorb = 2/3.0 - approxb\n",
    "errorc = 2/3.0 - approxc\n",
    "errord = 2/3.0 - approxd\n",
    "ratea = errorb / errora\n",
    "rateb = errorc / errorb\n",
    "ratec = errord / errorc\n",
    "print(\"Integral A =\", approxa, \"Error =\", errora)\n",
    "print(\"Integral B =\", approxb, \"Error =\", errorb, \"Decrease Factor =\", ratea)\n",
    "print(\"Integral C =\", approxc, \"Error =\", errorc, \"Decrease Factor =\", rateb)\n",
    "print(\"Integral D =\", approxd, \"Error =\", errord, \"Decrease Factor =\", ratec)"
   ]
  },
  {
   "cell_type": "markdown",
   "id": "561e50bd",
   "metadata": {},
   "source": [
    "We don't see a second order convergence to the exact value of the integral here because $f''$ needs to be continuous on $[0, 1]$; however, $f'' = -\\frac{1}{4x^\\frac{3}{2}}$ is not continuous at $x = 0$"
   ]
  },
  {
   "cell_type": "markdown",
   "id": "d9ef99d0",
   "metadata": {},
   "source": [
    "$3$"
   ]
  },
  {
   "cell_type": "code",
   "execution_count": 27,
   "id": "050afdd9",
   "metadata": {},
   "outputs": [
    {
     "name": "stdout",
     "output_type": "stream",
     "text": [
      "q = [4.024433973408837, 4.006154966017944, 4.001541302002125, 4.000385480298667, 4.000096379490147, 4.000024096441151]\n",
      "h = 0.001958303339555469\n"
     ]
    }
   ],
   "source": [
    "# Problem 3 part a\n",
    "# Last Modified: 09/30/2021\n",
    "# INPUT: integral limits a and b, number of nodes N and the integrand fc, an array of tested ratio\n",
    "# OUTPUT: a value of h for which q(h) is approximately equal to 4 \n",
    "\n",
    "arrayh = [5, 10, 20, 40, 80, 160, 320, 640]\n",
    "size = len(arrayh)\n",
    "\n",
    "def fc(x):\n",
    "    return math.cos(x ** 2)\n",
    "\n",
    "trap = [trapezoidal(arrayh[j], 0, math.sqrt(math.pi/2), fc) for j in range(0, size)]\n",
    "ratio = [(trap[k+1]-trap[k])/(trap[k+2]-trap[k+1]) for k in range(0, size - 2)]\n",
    "print(\"q =\", ratio)\n",
    "print(\"h =\", math.sqrt(math.pi/2) / 640)"
   ]
  },
  {
   "cell_type": "code",
   "execution_count": 24,
   "id": "15a31028",
   "metadata": {},
   "outputs": [
    {
     "name": "stdout",
     "output_type": "stream",
     "text": [
      "Approximation of error is -8.010669887426047e-07\n"
     ]
    }
   ],
   "source": [
    "# Problem 3 part b\n",
    "# Last Modified: 09/30/2021\n",
    "# INPUT: integral limits a and b, and the integrand fc with N = 640 and 1280\n",
    "# OUTPUT: Approximation of the error for h = 0.001958303339555469\n",
    "\n",
    "approxError = 4 / 3.0 * (trapezoidal(640, 0, math.sqrt(math.pi/2), fc) - trapezoidal(1280, 0, math.sqrt(math.pi/2), fc))\n",
    "print(\"Approximation of error is\", approxError)"
   ]
  },
  {
   "cell_type": "code",
   "execution_count": 28,
   "id": "935784e3",
   "metadata": {},
   "outputs": [
    {
     "name": "stdout",
     "output_type": "stream",
     "text": [
      "Extrapolated approximation = 0.9774498221574325\n"
     ]
    }
   ],
   "source": [
    "# Problem 3 part c\n",
    "# Last Modified: 09/30/2021\n",
    "# INPUT: integral limits a and b, and the integrand fc with N = 640\n",
    "# OUTPUT: Extrapolated approximation\n",
    "\n",
    "extraApprox = trapezoidal(640, 0, math.sqrt(math.pi/2), fc) + approxError\n",
    "print(\"Extrapolated approximation =\", extraApprox)"
   ]
  },
  {
   "cell_type": "markdown",
   "id": "e8b635e4",
   "metadata": {},
   "source": [
    "d) Because $S_h[cosx^2]$ has fourth order rate of convergence."
   ]
  },
  {
   "cell_type": "code",
   "execution_count": null,
   "id": "d64ae4ea",
   "metadata": {},
   "outputs": [],
   "source": []
  }
 ],
 "metadata": {
  "kernelspec": {
   "display_name": "Python 3",
   "language": "python",
   "name": "python3"
  },
  "language_info": {
   "codemirror_mode": {
    "name": "ipython",
    "version": 3
   },
   "file_extension": ".py",
   "mimetype": "text/x-python",
   "name": "python",
   "nbconvert_exporter": "python",
   "pygments_lexer": "ipython3",
   "version": "3.8.8"
  }
 },
 "nbformat": 4,
 "nbformat_minor": 5
}
