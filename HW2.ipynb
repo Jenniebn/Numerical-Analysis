{
 "cells": [
  {
   "cell_type": "code",
   "execution_count": 77,
   "id": "d7c94a42",
   "metadata": {},
   "outputs": [
    {
     "name": "stdout",
     "output_type": "stream",
     "text": [
      "Decrease Factor = 0.65625 Error = -0.123046875\n",
      "Decrease Factor = 0.7159753224206349 Error = -0.08809852600097656\n",
      "Decrease Factor = 0.7115368060652316 Error = -0.06268534380978963\n",
      "Decrease Factor = 0.7093195424096832 Error = -0.044463939386953644\n",
      "Decrease Factor = 0.7082124487296427 Error = -0.03148991539340085\n",
      "Decrease Factor = 0.7076594179088982 Error = -0.022284135197294497\n",
      "Decrease Factor = 0.7073830479408975 Error = -0.015763419476589213\n",
      "The rate of convergence is 1/n^(1/2), where in this case the rate of convergence is 1/(2^(1/2)) = 0.7071067811865475\n"
     ]
    }
   ],
   "source": [
    "# This is implementation of Bernstein polynomials written by Jennie Wu for HW#2 Problem 5\n",
    "# Last Modified: Oct 8th, 2021\n",
    "# Input: The Bernstein polynomial of degree n ≥ 1, the binomial coefficients defined by n and k, \n",
    "# x-value 0 ≤ x ≤ 1/2, and function f given by the problem\n",
    "# Expected Output: the rate of convergence of Bnf to f.\n",
    "\n",
    "import math\n",
    "\n",
    "# definition for the piecewise f function\n",
    "def f(k, n):\n",
    "    x = k / n\n",
    "    if ((x > 0) or (x == 0)) and ((x < 1/2) or (x == 1/2)):\n",
    "        return x \n",
    "    elif (1/2 < x) and ((x < 1) or (x == 1)):\n",
    "        return 1 - x\n",
    "\n",
    "# definition for the Bernstein polynomial\n",
    "def Bnf(x, n, f):\n",
    "    sum = 0\n",
    "    for i in range(n + 1):\n",
    "        bino = math.factorial(n) / (math.factorial(n - i) * math.factorial(i))\n",
    "        sum += f(i, n) * bino * (x ** i) * ((1 - x) ** (n - i))\n",
    "    return sum\n",
    "\n",
    "# function to calculate the decrease factor for the rate of convergence\n",
    "def rate(n):\n",
    "    error1 = Bnf(1/2, 5, f) - 1/2\n",
    "    N = 5 * 2\n",
    "    # loop to generate decrease factor automatically according to the input n, the number of loops\n",
    "    for i in range(1, n):\n",
    "        error2 = Bnf(1/2, N, f) - 1/2\n",
    "        rate = error2 / error1\n",
    "        print(\"Decrease Factor =\", rate, \"Error =\", error2)\n",
    "        N *= 2\n",
    "        error1 = error2\n",
    "\n",
    "rate(8)\n",
    "\n",
    "print(\"The rate of convergence is 1/n^(1/2), where in this case the rate of convergence is 1/(2^(1/2)) =\", 1 / math.sqrt(2))"
   ]
  },
  {
   "cell_type": "code",
   "execution_count": 76,
   "id": "ace2e2fc",
   "metadata": {},
   "outputs": [
    {
     "data": {
      "image/png": "[encoded data removed]",
      "text/plain": [
       "<Figure size 432x288 with 1 Axes>"
      ]
     },
     "metadata": {
      "needs_background": "light"
     },
     "output_type": "display_data"
    }
   ],
   "source": [
    "# This is implementation of Bernstein polynomials written by Jennie Wu for HW#2 Problem 6\n",
    "# Last Modified: Oct 8th, 2021\n",
    "# Input: t ∈ [0, 1], coordinates of P0, P1, P2\n",
    "# Expected Output: An integral sign generated by points (0, 0), (1, 10), (2, 8), (-1, -10), (-2, -8)\n",
    "\n",
    "import matplotlib.pyplot as plt\n",
    "import numpy as np\n",
    "\n",
    "# definition for Bernstein basis polynomials\n",
    "def B2(t, point0, point1, point2):\n",
    "    x = (1 - t ** 2) * point0[0] + 2 * t * (1 - t) * point1[0] + t ** 2 * point2[0]\n",
    "    y = (1 - t ** 2) * point0[1] + 2 * t * (1 - t) * point1[1] + t ** 2 * point2[1]\n",
    "    return x, y\n",
    "\n",
    "# points I chose\n",
    "P0 = [0, 0]\n",
    "P1 = [1, 10]\n",
    "P2 = [2, 8]\n",
    "Pa = [-1, -10]\n",
    "Pb = [-2, -8]\n",
    "\n",
    "# point coordinates generated by Bernstein basis polynomials\n",
    "t = np.linspace(0, 1, 101)\n",
    "pointx = B2(t, P0, P1, P2)[0]\n",
    "pointy = B2(t, P0, P1, P2)[1]\n",
    "pointa = B2(t, P0, Pa, Pb)[0]\n",
    "pointb = B2(t, P0, Pa, Pb)[1]\n",
    "\n",
    "# plot\n",
    "plt.axis(\"equal\")\n",
    "plt.plot(pointx, pointy)\n",
    "plt.plot(pointa, pointb)\n",
    "plt.grid()\n",
    "plt.show()\n",
    "\n",
    "    "
   ]
  }
 ],
 "metadata": {
  "kernelspec": {
   "display_name": "Python 3",
   "language": "python",
   "name": "python3"
  },
  "language_info": {
   "codemirror_mode": {
    "name": "ipython",
    "version": 3
   },
   "file_extension": ".py",
   "mimetype": "text/x-python",
   "name": "python",
   "nbconvert_exporter": "python",
   "pygments_lexer": "ipython3",
   "version": "3.8.8"
  }
 },
 "nbformat": 4,
 "nbformat_minor": 5
}
