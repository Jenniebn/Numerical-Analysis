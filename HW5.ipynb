{
 "cells": [
  {
   "cell_type": "markdown",
   "id": "6073c118",
   "metadata": {},
   "source": [
    "# Problem 1a\n",
    "\n",
    "Lagrange formula for the interpolating polynomial of $f$ at $x_{0}, x_{1}, . . . , x_{n}$: \n",
    "$$p_{n}(x) = \\omega(x)\\sum_{j=0}^{n}\\frac{\\lambda_{j}}{x - x_{j}}f_{j}$$\n",
    "\n",
    "Newton's form of $p_{n}$:\n",
    "$$p_{n}(x) = f[x_{0}] + f[x_{0}, x_{1}](x - x_{0}) + \\dots + f[x_{0}, \\dots, x_{n}](x - x_{0})\\dots(x - x_{n - 1})$$\n",
    "$$\\omega(x)\\sum_{j=0}^{n}\\frac{\\lambda_{j}}{x - x_{j}}f_{j} = f[x_{0}] + f[x_{0}, x_{1}](x - x_{0}) + \\dots + f[x_{0}, \\dots, x_{n}](x - x_{0})\\dots(x - x_{n - 1})$$\n",
    "$$(x - x_{0})\\dots(x - x_{n})\\sum_{j=0}^{n}\\frac{\\lambda_{j}}{x - x_{j}}f_{j} = f[x_{0}] + f[x_{0}, x_{1}](x - x_{0}) + \\dots + f[x_{0}, \\dots, x_{n}](x - x_{0})\\dots(x - x_{n - 1})$$\n",
    "\n",
    "Note that on the left side of the equation, we have the highest degree as n + 1 for $\\omega(x)$. However, when we pull $\\omega$ to the summation $\\frac{\\omega(x)}{x - x_{j}}$, we get $(x - x_{0})\\dots(x - x_{j - 1})(x - x_{j + 1})\\dots(x - x_{n}) = \\prod_{\\substack{k = 0 \\\\ k \\neq j}}^{n}(x - x_{k})$ with the highest degree as n and leading coefficient as 1. Then the leading coefficient for the Lagrange form of the interpolation polynomial becomes\n",
    "$$\n",
    "\\sum_{j = 0}^{n}\\frac{f(x_{j})}{\\prod_{\\substack{k = 0 \\\\ k \\neq j}}^{n}(x_{j} - x_{k})}\n",
    "$$\n",
    "For the right side of the equation, the highest degree n is in the term $f[x_{0}, \\dots, x_{n}](x - x_{0})\\dots(x - x_{n - 1})$, in which the leading coefficient is $f[x_{0}, \\dots, x_{n}]$. Therefore, we have that\n",
    "$$\n",
    "f[x_{0}, \\dots, x_{n}] = \\sum_{j = 0}^{n}\\frac{f(x_{j})}{\\prod_{\\substack{k = 0 \\\\ k \\neq j}}^{n}(x_{j} - x_{k})}\n",
    "$$"
   ]
  },
  {
   "cell_type": "markdown",
   "id": "7af7b3f4",
   "metadata": {},
   "source": [
    "# Problem 1b\n",
    "\n",
    "Meaning of divided differences are symmetric functions of their arguments: For $x_{0}, x_{1}, x_{2}$, $f[x_{0}, x_{1}, x_{2}] = f[x_{2}, x_{1}, x_{0}] = f[x_{1}, x_{2}, x_{0}] = \\dots$\n",
    "\n",
    "Proof: Let $\\sigma:\\{0, \\dots, n\\} \\rightarrow \\{0, \\dots, n\\} $ be the permutation for divided differences. We want to show that $f[x_{\\sigma(0)}, \\dots, x_{\\sigma(n)}] = f[x_{0}, \\dots, x_{n}]$, which is equivalent to show that \n",
    "$$\n",
    "\\sum_{j=0}^{n}\\frac{f(x_{\\sigma(j)})}{\\prod_{\\substack{k = 0 \\\\ k \\neq j}}^{n}(x_{\\sigma(j)} - x_{\\sigma(k)})} = \\sum_{j=0}^{n}\\frac{f(x_{j})}{\\prod_{\\substack{k = 0 \\\\ k \\ne j}}^{n}(x_{j} - x_{k})}\n",
    "$$\n",
    "\n",
    "Note that on the left side, the denominator is a product of linear terms $x_{\\sigma(j)} - x_{\\sigma(k)}$ skipping the case when $j = k$. Since $\\sigma$ is a permutation, it is also bijective. Then for each $y \\in \\{0, \\dots, n\\}$, there exists a unique $x \\in \\{0, \\dots, n\\}$ such that $\\sigma(x) = y$. In this case, each term in the summation becomes\n",
    "$$\n",
    "\\frac{f(x_{\\sigma(j)})}{\\prod_{\\substack{k = 0 \\\\ k \\neq j}}^{n}(x_{\\sigma(j)} - x_{\\sigma(k)})} = \\frac{f(x_{j})}{\\prod_{\\substack{k = 0 \\\\ k \\ne j}}^{n}(x_{j} - x_{k})}\n",
    "$$\n",
    "This means that the summation of the unique left hand side equals the summation of the unique right hand side, which proves the claim."
   ]
  },
  {
   "cell_type": "code",
   "execution_count": 49,
   "id": "81c125fd",
   "metadata": {},
   "outputs": [
    {
     "name": "stdout",
     "output_type": "stream",
     "text": [
      "$p_{3}(3)$ = 10.0\n"
     ]
    }
   ],
   "source": [
    "# This is implementation of the Newton’s form and Lagrange form of the interpolation polynomial for problem 2a written by Jennie Wu\n",
    "# Last modified: Nov. 5th, 2021\n",
    "# Input: number of coefficients, list of x values, f values determined by each x value, and x value we want to evalutae at\n",
    "# Expected Output: p_{n}(x)\n",
    "\n",
    "import numpy as np\n",
    "import math\n",
    "\n",
    "def coefficient(n, xValues, f):\n",
    "    cj = np.zeros(n + 1)\n",
    "    for j in range(n + 1):\n",
    "        cj[j] = f(xValues[j])\n",
    "    for k in range(1, n + 1):\n",
    "        for i in range(n, k - 1, -1):\n",
    "            cj[i] = float(cj[i] - cj[i - 1]) / (xValues[i] - xValues[i - k])\n",
    "    return cj\n",
    "\n",
    "def Newton(n, x, xValues, f):\n",
    "    cj=coefficient(n, xValues, f)\n",
    "    p = cj[n]\n",
    "    for j in range(n - 1, -1, -1):\n",
    "        p = cj[j] + (x - xValues[j]) * p\n",
    "    return p\n",
    "\n",
    "#test case: $f(x) = 1 + x^{2}, x_{j} = j, f_{j} = f(x_{j}) for j = 0, \\dots, 3$\n",
    "def fTest(x):\n",
    "    return 1 + x ** 2\n",
    "\n",
    "print(\"$p_{3}(3)$ =\", Newton(3, 3, [0, 1, 2, 3], fTest))\n"
   ]
  },
  {
   "cell_type": "code",
   "execution_count": 44,
   "id": "5c7547fc",
   "metadata": {},
   "outputs": [
    {
     "data": {
      "image/png": "[encoded data removed]",
      "text/plain": [
       "<Figure size 432x288 with 1 Axes>"
      ]
     },
     "metadata": {
      "needs_background": "light"
     },
     "output_type": "display_data"
    },
    {
     "data": {
      "image/png": "[encoded data removed]",
      "text/plain": [
       "<Figure size 432x288 with 1 Axes>"
      ]
     },
     "metadata": {
      "needs_background": "light"
     },
     "output_type": "display_data"
    }
   ],
   "source": [
    "# Problem 2b written by Jennie Wu\n",
    "# Last modified: Nov. 5th, 2021\n",
    "# Input: x value and number of coefficients we need\n",
    "# Expected Output: plot for the error function\n",
    "\n",
    "import matplotlib.pyplot as plt\n",
    "\n",
    "def fb(x):\n",
    "    return math.e ** (-(x ** 2))\n",
    "\n",
    "def xj(n):\n",
    "    xj = np.zeros(n + 1)\n",
    "    for j in range(n + 1):\n",
    "        xj[j] = -1 + j * (2 / float(n))\n",
    "    return xj\n",
    "\n",
    "x = np.linspace(-1, 1, 101)\n",
    "p10 = [Newton(10, i, xj(10), fb) for i in xj(100)]\n",
    "f_b = [fb(i) for i in xj(100)]\n",
    "error = [f_b[i] - p10[i] for i in range(101)]\n",
    "\n",
    "plt.plot(x, p10) \n",
    "plt.title(\"p10(x)\")\n",
    "plt.show()\n",
    "\n",
    "plt.plot(x, error) \n",
    "plt.title(\"f(x) - p10(x)\")\n",
    "plt.show()"
   ]
  },
  {
   "cell_type": "markdown",
   "id": "75304c2a",
   "metadata": {},
   "source": [
    "# Problem 3 Inverse Interpolation\n",
    "\n",
    "| $y_{j} = f(x_{j})$ | $x_{j}$ |  |\n",
    "| --- | --- | --- |\n",
    "| $y_{0} = −0.106530659712633$ | $x_{0} = 0.5$ |  |\n",
    "| $y_{1} = 0.051188363905973$ | $x_{1} = 0.6$ | $f^{-1}[y_{0}, y_{1}]$ |\n",
    "\n",
    "$$\n",
    "f^{-1}[y_{0}, y_{1}] = \\frac{x_{1} - x_{0}}{y_{1} - y_{0}} = \\frac{0.6 - 0.5}{0.051188363905973 - (−0.106530659712633$)} = \\frac{0.1}{0.15771902361860599} = 0.6340389238131391\n",
    "$$\n",
    "\n",
    "$$\n",
    "p_{1}(0) = x_{0} - y_{0}f^{-1}[y_{0}, y_{1}] = 0.5 - (−0.106530659712633) \\times 0.6340389238131391 = 0.5675445848373015\n",
    "$$"
   ]
  },
  {
   "cell_type": "markdown",
   "id": "97db2d09",
   "metadata": {},
   "source": [
    "# Problem 4 Hermite Interpolation Polynomial\n",
    "\n",
    "||||||\n",
    "|---|---|---|---|---|\n",
    "| $x_{0}$ | $f(x_{0})$ ||||\n",
    "| $x_{0}$ | $f(x_{0})$ | $f'(x_{0})$ |||\n",
    "| $x_{1}$ | $f(x_{1})$ | $f[x_{0}, x_{1}]$ | $f[x_{0}, x_{0}, x_{1}]$ ||\n",
    "| $x_{1}$ | $f(x_{1})$ | $f'(x_{1})$ | $f[x_{0}, x_{1}, x_{1}]$ | $f[x_{0}, x_{0}, x_{1}, x_{1}]$ |\n",
    "\n",
    "Applying $f(0) = 0, f'(0) = 0, f(1) = 2, f'(1) = 3 \\Rightarrow$\n",
    "\n",
    "||||||\n",
    "|---|---|---|---|---|\n",
    "| 0 | 0 ||||\n",
    "| 0 | 0 | 0 |||\n",
    "| 1 | 2 | 2 | 2 ||\n",
    "| 1 | 2 | 3 | 1 | -1 |\n",
    "\n",
    "$$\n",
    "p(x) = f(x_{0}) + f'(x_{0})(x - x_{0}) + f[x_{0}, x_{0}, x_{1}](x - x_{0})^{2} + f[x_{0}, x_{0}, x_{1}, x_{1}](x - x_{0})^{2}(x - x_{1})\n",
    "$$\n",
    "$$\n",
    "= 0 + 0(x - 0) + 2(x - 0)^{2} - 1(x - 0)^{2}(x - 1)\n",
    "$$\n",
    "$$\n",
    "= 2x^{2} - x^{2}(x - 1)\n",
    "$$"
   ]
  },
  {
   "cell_type": "code",
   "execution_count": null,
   "id": "d603843c",
   "metadata": {},
   "outputs": [],
   "source": []
  }
 ],
 "metadata": {
  "kernelspec": {
   "display_name": "Python 3",
   "language": "python",
   "name": "python3"
  },
  "language_info": {
   "codemirror_mode": {
    "name": "ipython",
    "version": 3
   },
   "file_extension": ".py",
   "mimetype": "text/x-python",
   "name": "python",
   "nbconvert_exporter": "python",
   "pygments_lexer": "ipython3",
   "version": "3.8.8"
  }
 },
 "nbformat": 4,
 "nbformat_minor": 5
}
